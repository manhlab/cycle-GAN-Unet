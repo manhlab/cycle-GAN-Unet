{
  "nbformat": 4,
  "nbformat_minor": 0,
  "metadata": {
    "colab": {
      "name": "cycleGAN.ipynb",
      "private_outputs": true,
      "provenance": [],
      "machine_shape": "hm"
    },
    "kernelspec": {
      "name": "python3",
      "display_name": "Python 3"
    },
    "language_info": {
      "name": "python"
    },
    "accelerator": "GPU"
  },
  "cells": [
    {
      "cell_type": "code",
      "metadata": {
        "id": "kYW7PSVsQCNw"
      },
      "source": [
        "!rm -rf /content/cycle-GAN-Unet\n",
        "!git clone https://github.com/manhlab/cycle-GAN-Unet.git"
      ],
      "execution_count": null,
      "outputs": []
    },
    {
      "cell_type": "code",
      "metadata": {
        "id": "1--JpGwzQLAY"
      },
      "source": [
        "import os\n",
        "os.chdir('/content/cycle-GAN-Unet')\n",
        "!bash /content/cycle-GAN-Unet/prepare.sh"
      ],
      "execution_count": null,
      "outputs": []
    },
    {
      "cell_type": "code",
      "metadata": {
        "id": "PWUJzZfUQcU4"
      },
      "source": [
        "import os\n",
        "os.chdir('/content/cycle-GAN-Unet')\n",
        "\n",
        "!python src/trainer.py"
      ],
      "execution_count": null,
      "outputs": []
    },
    {
      "cell_type": "code",
      "metadata": {
        "id": "VECjQ-sQRbc3"
      },
      "source": [
        ""
      ],
      "execution_count": null,
      "outputs": []
    }
  ]
}